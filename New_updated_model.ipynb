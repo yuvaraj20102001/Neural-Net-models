{
 "cells": [
  {
   "cell_type": "code",
   "execution_count": 452,
   "metadata": {},
   "outputs": [],
   "source": [
    "import torch\n",
    "from torch.utils.data import Dataset,DataLoader,SequentialSampler,RandomSampler,BatchSampler,default_collate\n",
    "import matplotlib.pyplot as plt\n",
    "from torch.nn import Linear\n",
    "from torch import optim,nn\n",
    "import os\n",
    "import cv2\n",
    "import numpy as np\n",
    "import glob"
   ]
  },
  {
   "cell_type": "code",
   "execution_count": 453,
   "metadata": {},
   "outputs": [],
   "source": [
    "\n",
    "\n",
    "\n",
    "class shape_dataset(Dataset):\n",
    "    def __init__(self,path_list):\n",
    "        self.path_list=path_list\n",
    "        self.label=np.zeros((len(path_list),5),dtype=np.float32)\n",
    "        self.label[:1000,0],self.label[1000:2000,1],self.label[2000:3000,2],self.label[3000:4000,3],self.label[4000:5000,4]=1,1,1,1,1\n",
    "        \n",
    "\n",
    "    def __getitem__(self,index):\n",
    "        self.image=cv2.imread(self.path_list[index],cv2.IMREAD_GRAYSCALE)\n",
    "        self.image=cv2.resize(self.image,(50,50),cv2.INTER_LINEAR)\n",
    "        self.image=torch.tensor(self.image,dtype=torch.float32)/255.0\n",
    "        self.label[index]=torch.tensor(self.label[index],dtype=torch.float32)\n",
    "\n",
    "        return self.image,self.label[index]\n",
    "\n",
    "    def __len__(self):\n",
    "        return len(self.path_list)"
   ]
  },
  {
   "cell_type": "code",
   "execution_count": 454,
   "metadata": {},
   "outputs": [],
   "source": [
    "path_list=glob.glob(\"Shape_Data/**/*.jpg\")"
   ]
  },
  {
   "cell_type": "code",
   "execution_count": 455,
   "metadata": {},
   "outputs": [
    {
     "data": {
      "text/plain": [
       "(tensor([[0., 0., 0.,  ..., 0., 0., 0.],\n",
       "         [0., 0., 0.,  ..., 0., 0., 0.],\n",
       "         [0., 0., 0.,  ..., 0., 0., 0.],\n",
       "         ...,\n",
       "         [0., 0., 0.,  ..., 0., 0., 0.],\n",
       "         [0., 0., 0.,  ..., 0., 0., 0.],\n",
       "         [0., 0., 0.,  ..., 0., 0., 0.]]),\n",
       " array([1., 0., 0., 0., 0.], dtype=float32))"
      ]
     },
     "execution_count": 455,
     "metadata": {},
     "output_type": "execute_result"
    }
   ],
   "source": [
    "dataset=shape_dataset(path_list)\n",
    "dataset[999]\n",
    "# plt.imshow(dataset)\n",
    "# plt.imshow(dataset[1002][0])"
   ]
  },
  {
   "cell_type": "code",
   "execution_count": 456,
   "metadata": {},
   "outputs": [
    {
     "name": "stdout",
     "output_type": "stream",
     "text": [
      "4000 1000\n"
     ]
    }
   ],
   "source": [
    "batch_size=10\n",
    "\n",
    "\n",
    "# train_loader=[]\n",
    "# test_loader=[]\n",
    "\n",
    "\n",
    "train_size = int(0.8 * len(dataset))\n",
    "test_size = int(0.2*len(dataset))\n",
    "\n",
    "print(train_size,test_size)\n",
    "\n",
    "train_dataset, test_dataset = torch.utils.data.random_split(dataset, [train_size, test_size])\n",
    "\n"
   ]
  },
  {
   "cell_type": "code",
   "execution_count": 490,
   "metadata": {},
   "outputs": [],
   "source": [
    "class LR(nn.Module):\n",
    "    def __init__(self,n_input,n_hidden,n_output):\n",
    "        super().__init__()\n",
    "        self.n_input=n_input\n",
    "        self.n_output=n_output\n",
    "        self.n_hidden=n_hidden\n",
    "        self.linear_layer1=nn.Linear(self.n_input,self.n_hidden)\n",
    "        self.linear_layer2=nn.Linear(self.n_hidden,self.n_output)\n",
    "        # self.softmax=nn.Softmax()\n",
    "        self.sig=nn.Sigmoid()\n",
    "\n",
    "    def forward(self,x):\n",
    "        # x=x.reshape((self.n_input,1))\n",
    "        x=x.reshape(-1,2500)\n",
    "        # print(x.shape)\n",
    "        x1=self.linear_layer1(x)\n",
    "        # print(x.shape)\n",
    "        x1=self.sig(x1)\n",
    "        out=self.linear_layer2(x1)\n",
    "        # print(out)\n",
    "        return self.sig(out)\n"
   ]
  },
  {
   "cell_type": "code",
   "execution_count": 491,
   "metadata": {},
   "outputs": [
    {
     "name": "stdout",
     "output_type": "stream",
     "text": [
      "400\n"
     ]
    },
    {
     "data": {
      "image/png": "[encoded data removed]",
      "text/plain": [
       "<Figure size 432x288 with 1 Axes>"
      ]
     },
     "metadata": {
      "needs_background": "light"
     },
     "output_type": "display_data"
    }
   ],
   "source": [
    "train_loader=DataLoader(train_dataset,batch_size=batch_size)\n",
    "test_loader=DataLoader(test_dataset,batch_size=batch_size)\n",
    "\n",
    "# for i in train_dataset:\n",
    "plt.imshow(train_dataset[0][0])\n",
    "print(len(train_loader))"
   ]
  },
  {
   "cell_type": "code",
   "execution_count": 492,
   "metadata": {},
   "outputs": [],
   "source": [
    "criteria=nn.CrossEntropyLoss()"
   ]
  },
  {
   "cell_type": "code",
   "execution_count": 493,
   "metadata": {},
   "outputs": [
    {
     "name": "stdout",
     "output_type": "stream",
     "text": [
      "[Parameter containing:\n",
      "tensor([[ 0.0103, -0.0088, -0.0039,  ...,  0.0118, -0.0179, -0.0041],\n",
      "        [ 0.0022, -0.0091,  0.0093,  ...,  0.0011,  0.0103,  0.0164],\n",
      "        [ 0.0013,  0.0026,  0.0062,  ..., -0.0005,  0.0096,  0.0025],\n",
      "        ...,\n",
      "        [-0.0111,  0.0115, -0.0153,  ...,  0.0135,  0.0167, -0.0117],\n",
      "        [ 0.0025,  0.0103, -0.0060,  ..., -0.0165, -0.0035,  0.0117],\n",
      "        [-0.0112, -0.0143,  0.0152,  ..., -0.0097,  0.0042, -0.0028]],\n",
      "       requires_grad=True), Parameter containing:\n",
      "tensor([-0.0089,  0.0079, -0.0040,  0.0114,  0.0128, -0.0145, -0.0032, -0.0025,\n",
      "        -0.0148,  0.0181, -0.0035,  0.0094,  0.0008,  0.0130, -0.0061,  0.0169,\n",
      "         0.0020, -0.0158,  0.0140,  0.0144, -0.0160,  0.0117,  0.0037,  0.0006,\n",
      "         0.0189,  0.0094, -0.0178, -0.0016,  0.0089,  0.0110, -0.0191,  0.0193,\n",
      "         0.0119,  0.0183,  0.0140, -0.0142,  0.0198,  0.0088, -0.0135,  0.0184,\n",
      "        -0.0096, -0.0019, -0.0047,  0.0068, -0.0074,  0.0110,  0.0033,  0.0058,\n",
      "        -0.0183, -0.0150,  0.0071,  0.0010,  0.0148,  0.0039,  0.0160, -0.0197,\n",
      "         0.0198,  0.0035, -0.0180,  0.0149,  0.0166,  0.0117,  0.0052,  0.0198],\n",
      "       requires_grad=True), Parameter containing:\n",
      "tensor([[-0.0004, -0.1050,  0.1152, -0.1075,  0.0418,  0.0489,  0.1068,  0.0916,\n",
      "          0.0180, -0.0914,  0.0488, -0.0229,  0.1242, -0.0430, -0.0860,  0.1248,\n",
      "          0.0257, -0.0232, -0.0022,  0.1006, -0.0332,  0.0997,  0.0856, -0.0575,\n",
      "          0.0521, -0.0751, -0.0892,  0.0221, -0.0972, -0.1247, -0.0456,  0.0311,\n",
      "         -0.0954, -0.0305,  0.0195,  0.0686, -0.0978, -0.1081,  0.0339, -0.0726,\n",
      "         -0.0900, -0.0517, -0.0982,  0.0953, -0.0934,  0.0040, -0.0640,  0.1003,\n",
      "         -0.0320, -0.0902, -0.0741,  0.0297, -0.0056, -0.0667, -0.0176, -0.0795,\n",
      "          0.0622, -0.0978, -0.0861, -0.1160, -0.0127, -0.0633, -0.0640, -0.1010],\n",
      "        [ 0.1134, -0.1168, -0.0846, -0.0474,  0.0517,  0.0199, -0.0793, -0.0383,\n",
      "         -0.0706, -0.0746,  0.1188, -0.0135, -0.0638, -0.1155, -0.1151, -0.0123,\n",
      "          0.0915, -0.0386, -0.0490,  0.0906,  0.0790,  0.0322, -0.0022,  0.1077,\n",
      "         -0.0190, -0.0651,  0.0339,  0.1173,  0.0433, -0.0588, -0.1146, -0.1207,\n",
      "          0.0284, -0.1089, -0.1131, -0.0653,  0.0067, -0.0116, -0.1228,  0.0702,\n",
      "          0.0383, -0.0205, -0.0904, -0.1011, -0.0513,  0.0284,  0.0871, -0.0134,\n",
      "         -0.0655,  0.0980,  0.0039,  0.1192, -0.0060, -0.0972,  0.0212, -0.0366,\n",
      "         -0.1185,  0.0058, -0.0543, -0.0538,  0.0881, -0.0906, -0.0774, -0.0167],\n",
      "        [ 0.0417, -0.0308,  0.0215,  0.0269, -0.1164, -0.0916, -0.0688,  0.0544,\n",
      "          0.0576,  0.1044,  0.1171, -0.1125,  0.0349, -0.0533, -0.0507, -0.0709,\n",
      "          0.0206,  0.1119,  0.0233,  0.0080,  0.0143, -0.0986,  0.0681, -0.0024,\n",
      "         -0.0281, -0.0256,  0.0920, -0.1021,  0.0147, -0.1011, -0.0510, -0.0701,\n",
      "         -0.0720, -0.0746, -0.0011,  0.0395, -0.0055,  0.0290,  0.0624,  0.0135,\n",
      "          0.1158,  0.0236, -0.0470, -0.0454,  0.0718,  0.0623, -0.0653,  0.0559,\n",
      "         -0.0389, -0.1205, -0.0990,  0.0421, -0.0265, -0.1187,  0.1034, -0.0006,\n",
      "          0.0876, -0.0112, -0.0453,  0.1037, -0.0016, -0.0161,  0.0805, -0.0517],\n",
      "        [-0.0370,  0.0988,  0.0557, -0.0986, -0.0117, -0.0944, -0.0511,  0.0296,\n",
      "          0.1210,  0.0840,  0.1184,  0.1218, -0.0069, -0.0462,  0.0109,  0.1005,\n",
      "          0.0732,  0.0790,  0.1026,  0.0279, -0.0260,  0.1053, -0.0222,  0.0671,\n",
      "          0.0211,  0.0875,  0.0782,  0.0671,  0.0771,  0.0009, -0.0415,  0.1058,\n",
      "         -0.0909, -0.0634,  0.0400, -0.0385,  0.0297, -0.0383, -0.1005,  0.0255,\n",
      "         -0.0908,  0.1063,  0.1070,  0.0909, -0.0438,  0.0944, -0.0553, -0.1173,\n",
      "         -0.1015, -0.0468,  0.0804, -0.0737,  0.1009,  0.0096,  0.0206, -0.1038,\n",
      "          0.0138, -0.0092, -0.0946,  0.0072,  0.0983,  0.1198, -0.0995, -0.0084],\n",
      "        [-0.0338, -0.0740,  0.0789, -0.0339, -0.1197,  0.0319,  0.0454, -0.0567,\n",
      "         -0.0345, -0.0647, -0.0633,  0.0772,  0.1180,  0.0581, -0.1040,  0.0353,\n",
      "         -0.0632,  0.1063, -0.0324,  0.0316,  0.0554,  0.0262, -0.1148,  0.0443,\n",
      "         -0.0770,  0.0016, -0.0475, -0.0481,  0.0991, -0.0947, -0.0870, -0.0568,\n",
      "          0.1104,  0.1102, -0.0380,  0.0791,  0.0423, -0.0495,  0.0303, -0.0186,\n",
      "         -0.1199, -0.0582, -0.0459, -0.0963, -0.0808, -0.0384, -0.0137, -0.0088,\n",
      "          0.1179, -0.0855, -0.0275, -0.0111,  0.0485,  0.0359,  0.1179,  0.0867,\n",
      "          0.0444, -0.0619, -0.0281,  0.0024,  0.0176, -0.0509,  0.0314, -0.0112]],\n",
      "       requires_grad=True), Parameter containing:\n",
      "tensor([-0.0656, -0.0629, -0.0255, -0.0034,  0.0803], requires_grad=True)]\n"
     ]
    }
   ],
   "source": [
    "torch.manual_seed(1)\n",
    "n_input=2500\n",
    "n_output=5\n",
    "n_hidden=64\n",
    "\n",
    "lr=LR(n_input,n_hidden,n_output)\n",
    "\n",
    "sgd=optim.SGD(lr.parameters(),0.01)\n",
    "\n",
    "\n",
    "print(list(lr.parameters()))\n",
    "\n",
    "\n",
    "def Shape_nn(lr,train_loader,test_loader,sgd,criteria):\n",
    "    fig=plt.figure(figsize=(10,10))\n",
    "\n",
    "    test_loss=[]\n",
    "    train_loss=[]\n",
    "    for epoch in range(50):\n",
    "    \n",
    "        for x,y in train_loader:\n",
    "            # print(x)\n",
    "            \n",
    "            # print(x.shape)\n",
    "            yhat_train=lr(x)\n",
    "            # print(y.shape)\n",
    "            # print(yhat_train.shape)\n",
    "            # print(yhat_train.dtype,y.dtype)\n",
    "\n",
    "            trloss=criteria(yhat_train,y)\n",
    "            # print(trloss.dtype)\n",
    "            \n",
    "\n",
    "            # print(\"y, yhat  \",y,yhat_train)\n",
    "            sgd.zero_grad()\n",
    "            trloss.backward()\n",
    "            sgd.step()\n",
    "        train_loss.append(trloss.detach().numpy())\n",
    "        print(f\"for epoch {epoch} | train_loss :: {trloss}\".format(epoch,trloss))\n",
    "        \n",
    "        # train_loss.append(train_loss)\n",
    "        # fig.add_subplot(5,5,epoch+1)\n",
    "        # plt.plot(train_loss)\n",
    "        # print(train_loss.dtype)\n",
    "        for x2,y2 in test_loader:\n",
    "            \n",
    "            yhat_test=lr(x2)\n",
    "            tsloss=criteria(y2,yhat_test)\n",
    "        print(f\"for epoch {epoch} | test_loss :: {tsloss}\".format(epoch,tsloss)) \n",
    "        test_loss.append(tsloss.detach().numpy())\n",
    "        # print(test_loss.dtype)       \n",
    "    \n",
    "    # print(f\"for epoch {i} | train_loss :: {train_loss03978462144732475[i]}\".format(i,train_loss[i]))\n",
    "\n",
    "    return lr,train_loss,test_loss"
   ]
  },
  {
   "cell_type": "code",
   "execution_count": 513,
   "metadata": {},
   "outputs": [
    {
     "name": "stdout",
     "output_type": "stream",
     "text": [
      "torch.Size([64, 2500])\n",
      "torch.Size([5])\n"
     ]
    },
    {
     "data": {
      "text/plain": [
       "[<matplotlib.lines.Line2D at 0x7fe371d8e8c0>]"
      ]
     },
     "execution_count": 513,
     "metadata": {},
     "output_type": "execute_result"
    },
    {
     "data": {
      "image/png": "[encoded data removed]",
      "text/plain": [
       "<Figure size 720x720 with 1 Axes>"
      ]
     },
     "metadata": {
      "needs_background": "light"
     },
     "output_type": "display_data"
    }
   ],
   "source": [
    "\n",
    "\n",
    "\n",
    "lr.state_dict()\n",
    "print(lr.state_dict()['linear_layer1.weight'].shape)\n",
    "print(lr.state_dict()['linear_layer2.bias'].shape)\n",
    "plt.figure(figsize=(10,10))\n",
    "\n",
    "plt.plot(lr.state_dict()['linear_layer2.weight'][0])\n",
    "# plt.scatter(,lr.state_dict()['linear_layer1.bias'])"
   ]
  },
  {
   "cell_type": "code",
   "execution_count": 495,
   "metadata": {},
   "outputs": [
    {
     "name": "stdout",
     "output_type": "stream",
     "text": [
      "for epoch 0 | train_loss :: 1.6272594928741455\n",
      "for epoch 0 | test_loss :: 3.834944486618042\n",
      "for epoch 1 | train_loss :: 1.6240936517715454\n",
      "for epoch 1 | test_loss :: 3.81648588180542\n",
      "for epoch 2 | train_loss :: 1.6224521398544312\n",
      "for epoch 2 | test_loss :: 3.8038229942321777\n",
      "for epoch 3 | train_loss :: 1.6213363409042358\n",
      "for epoch 3 | test_loss :: 3.7939705848693848\n",
      "for epoch 4 | train_loss :: 1.620507001876831\n",
      "for epoch 4 | test_loss :: 3.786241054534912\n",
      "for epoch 5 | train_loss :: 1.6198530197143555\n",
      "for epoch 5 | test_loss :: 3.7804150581359863\n",
      "for epoch 6 | train_loss :: 1.619297742843628\n",
      "for epoch 6 | test_loss :: 3.7763290405273438\n",
      "for epoch 7 | train_loss :: 1.6188156604766846\n",
      "for epoch 7 | test_loss :: 3.7737934589385986\n",
      "for epoch 8 | train_loss :: 1.6184017658233643\n",
      "for epoch 8 | test_loss :: 3.7726051807403564\n",
      "for epoch 9 | train_loss :: 1.6180503368377686\n",
      "for epoch 9 | test_loss :: 3.7725818157196045\n",
      "for epoch 10 | train_loss :: 1.6177504062652588\n",
      "for epoch 10 | test_loss :: 3.7735753059387207\n",
      "for epoch 11 | train_loss :: 1.6174895763397217\n",
      "for epoch 11 | test_loss :: 3.775470018386841\n",
      "for epoch 12 | train_loss :: 1.6172568798065186\n",
      "for epoch 12 | test_loss :: 3.7781777381896973\n",
      "for epoch 13 | train_loss :: 1.6170432567596436\n",
      "for epoch 13 | test_loss :: 3.7816245555877686\n",
      "for epoch 14 | train_loss :: 1.6168407201766968\n",
      "for epoch 14 | test_loss :: 3.7857508659362793\n",
      "for epoch 15 | train_loss :: 1.6166423559188843\n",
      "for epoch 15 | test_loss :: 3.7905113697052\n",
      "for epoch 16 | train_loss :: 1.616441011428833\n",
      "for epoch 16 | test_loss :: 3.7958667278289795\n",
      "for epoch 17 | train_loss :: 1.616228699684143\n",
      "for epoch 17 | test_loss :: 3.801792860031128\n",
      "for epoch 18 | train_loss :: 1.6159980297088623\n",
      "for epoch 18 | test_loss :: 3.808270215988159\n",
      "for epoch 19 | train_loss :: 1.6157420873641968\n",
      "for epoch 19 | test_loss :: 3.8152804374694824\n",
      "for epoch 20 | train_loss :: 1.6154550313949585\n",
      "for epoch 20 | test_loss :: 3.822798490524292\n",
      "for epoch 21 | train_loss :: 1.615133285522461\n",
      "for epoch 21 | test_loss :: 3.830785036087036\n",
      "for epoch 22 | train_loss :: 1.6147737503051758\n",
      "for epoch 22 | test_loss :: 3.839183807373047\n",
      "for epoch 23 | train_loss :: 1.614373803138733\n",
      "for epoch 23 | test_loss :: 3.8479251861572266\n",
      "for epoch 24 | train_loss :: 1.613931655883789\n",
      "for epoch 24 | test_loss :: 3.8569273948669434\n",
      "for epoch 25 | train_loss :: 1.6134450435638428\n",
      "for epoch 25 | test_loss :: 3.8660998344421387\n",
      "for epoch 26 | train_loss :: 1.6129119396209717\n",
      "for epoch 26 | test_loss :: 3.8753509521484375\n",
      "for epoch 27 | train_loss :: 1.6123298406600952\n",
      "for epoch 27 | test_loss :: 3.884580612182617\n",
      "for epoch 28 | train_loss :: 1.611697793006897\n",
      "for epoch 28 | test_loss :: 3.893688917160034\n",
      "for epoch 29 | train_loss :: 1.611013650894165\n",
      "for epoch 29 | test_loss :: 3.9025745391845703\n",
      "for epoch 30 | train_loss :: 1.610276460647583\n",
      "for epoch 30 | test_loss :: 3.9111342430114746\n",
      "for epoch 31 | train_loss :: 1.6094850301742554\n",
      "for epoch 31 | test_loss :: 3.9192683696746826\n",
      "for epoch 32 | train_loss :: 1.6086397171020508\n",
      "for epoch 32 | test_loss :: 3.926879405975342\n",
      "for epoch 33 | train_loss :: 1.607740044593811\n",
      "for epoch 33 | test_loss :: 3.933875322341919\n",
      "for epoch 34 | train_loss :: 1.6067867279052734\n",
      "for epoch 34 | test_loss :: 3.9401695728302\n",
      "for epoch 35 | train_loss :: 1.6057809591293335\n",
      "for epoch 35 | test_loss :: 3.945687770843506\n",
      "for epoch 36 | train_loss :: 1.6047239303588867\n",
      "for epoch 36 | test_loss :: 3.9503626823425293\n",
      "for epoch 37 | train_loss :: 1.6036173105239868\n",
      "for epoch 37 | test_loss :: 3.954141616821289\n",
      "for epoch 38 | train_loss :: 1.6024631261825562\n",
      "for epoch 38 | test_loss :: 3.9569854736328125\n",
      "for epoch 39 | train_loss :: 1.601263403892517\n",
      "for epoch 39 | test_loss :: 3.9588680267333984\n",
      "for epoch 40 | train_loss :: 1.6000198125839233\n",
      "for epoch 40 | test_loss :: 3.959778308868408\n",
      "for epoch 41 | train_loss :: 1.5987355709075928\n",
      "for epoch 41 | test_loss :: 3.959719181060791\n",
      "for epoch 42 | train_loss :: 1.5974127054214478\n",
      "for epoch 42 | test_loss :: 3.9587082862854004\n",
      "for epoch 43 | train_loss :: 1.5960538387298584\n",
      "for epoch 43 | test_loss :: 3.9567763805389404\n",
      "for epoch 44 | train_loss :: 1.5946617126464844\n",
      "for epoch 44 | test_loss :: 3.953965663909912\n",
      "for epoch 45 | train_loss :: 1.5932382345199585\n",
      "for epoch 45 | test_loss :: 3.950326919555664\n",
      "for epoch 46 | train_loss :: 1.5917866230010986\n",
      "for epoch 46 | test_loss :: 3.945923328399658\n",
      "for epoch 47 | train_loss :: 1.5903091430664062\n",
      "for epoch 47 | test_loss :: 3.940822124481201\n",
      "for epoch 48 | train_loss :: 1.5888086557388306\n",
      "for epoch 48 | test_loss :: 3.9350967407226562\n",
      "for epoch 49 | train_loss :: 1.587287187576294\n",
      "for epoch 49 | test_loss :: 3.9288229942321777\n"
     ]
    },
    {
     "data": {
      "text/plain": [
       "<Figure size 720x720 with 0 Axes>"
      ]
     },
     "metadata": {},
     "output_type": "display_data"
    }
   ],
   "source": [
    "predicted,test_loss,train_loss=Shape_nn(lr,train_loader,test_loader,sgd,criteria)"
   ]
  },
  {
   "cell_type": "code",
   "execution_count": 496,
   "metadata": {},
   "outputs": [
    {
     "data": {
      "text/plain": [
       "[<matplotlib.lines.Line2D at 0x7fe379867580>]"
      ]
     },
     "execution_count": 496,
     "metadata": {},
     "output_type": "execute_result"
    },
    {
     "data": {
      "image/png": "[encoded data removed]",
      "text/plain": [
       "<Figure size 432x288 with 1 Axes>"
      ]
     },
     "metadata": {
      "needs_background": "light"
     },
     "output_type": "display_data"
    }
   ],
   "source": [
    "plt.plot(train_loss)"
   ]
  },
  {
   "cell_type": "code",
   "execution_count": 484,
   "metadata": {},
   "outputs": [
    {
     "data": {
      "text/plain": [
       "[<matplotlib.lines.Line2D at 0x7fe379a22920>]"
      ]
     },
     "execution_count": 484,
     "metadata": {},
     "output_type": "execute_result"
    },
    {
     "data": {
      "image/png": "[encoded data removed]",
      "text/plain": [
       "<Figure size 432x288 with 1 Axes>"
      ]
     },
     "metadata": {
      "needs_background": "light"
     },
     "output_type": "display_data"
    }
   ],
   "source": [
    "plt.plot(test_loss)"
   ]
  },
  {
   "cell_type": "code",
   "execution_count": 485,
   "metadata": {},
   "outputs": [
    {
     "data": {
      "image/png": "[encoded data removed]",
      "text/plain": [
       "<Figure size 432x288 with 1 Axes>"
      ]
     },
     "metadata": {
      "needs_background": "light"
     },
     "output_type": "display_data"
    }
   ],
   "source": [
    "test=cv2.imread(\"Shape_Data/Circle/circle562.jpg\",cv2.IMREAD_GRAYSCALE)\n",
    "test=cv2.resize(test,(50,50))\n",
    "plt.imshow(test,cmap=\"gray\")\n",
    "test=torch.tensor(test,dtype=torch.float32)/255.0"
   ]
  },
  {
   "cell_type": "code",
   "execution_count": 486,
   "metadata": {},
   "outputs": [
    {
     "name": "stdout",
     "output_type": "stream",
     "text": [
      "{0: 'circle', 1: 'pentagon', 2: 'square', 3: 'star', 4: 'triangle'}\n",
      "\n",
      "tensor([[0.0000, 0.0000, 0.0246, 0.0000, 0.0000]], grad_fn=<ReluBackward0>)\n"
     ]
    }
   ],
   "source": [
    "print({0:\"circle\",1:\"pentagon\",2:\"square\",3:\"star\",4:\"triangle\"})\n",
    "print()\n",
    "print(predicted(test))\n"
   ]
  },
  {
   "cell_type": "code",
   "execution_count": 487,
   "metadata": {},
   "outputs": [
    {
     "name": "stdout",
     "output_type": "stream",
     "text": [
      "(50, 50)\n"
     ]
    },
    {
     "data": {
      "text/plain": [
       "<matplotlib.image.AxesImage at 0x7fe379af8ac0>"
      ]
     },
     "execution_count": 487,
     "metadata": {},
     "output_type": "execute_result"
    },
    {
     "data": {
      "image/png": "[encoded data removed]",
      "text/plain": [
       "<Figure size 432x288 with 1 Axes>"
      ]
     },
     "metadata": {
      "needs_background": "light"
     },
     "output_type": "display_data"
    }
   ],
   "source": [
    "x=np.zeros((500,500),dtype=np.uint8)\n",
    "\n",
    "# cv2.rectangle(x,(100,100),(200,200),(255,255,255),thickness=-1)\n",
    "cv2.circle(x,(100,100),70,(255,255,255),thickness=-1)\n",
    "test=cv2.resize(x,(50,50))\n",
    "print(test.shape)\n",
    "plt.imshow(test)"
   ]
  },
  {
   "cell_type": "code",
   "execution_count": 488,
   "metadata": {},
   "outputs": [
    {
     "data": {
      "image/png": "[encoded data removed]",
      "text/plain": [
       "<Figure size 432x288 with 1 Axes>"
      ]
     },
     "metadata": {
      "needs_background": "light"
     },
     "output_type": "display_data"
    }
   ],
   "source": [
    "# test=cv2.imread(\"Shape_Data/Square/square4.jpg\",cv2.IMREAD_GRAYSCALE) \n",
    "# test=cv2.resize(test,(50,50))\n",
    "plt.imshow(test,cmap=\"gray\")\n",
    "test=torch.tensor(test,dtype=torch.float32)/255.0"
   ]
  },
  {
   "cell_type": "code",
   "execution_count": 489,
   "metadata": {},
   "outputs": [
    {
     "name": "stdout",
     "output_type": "stream",
     "text": [
      "{0: 'circle', 1: 'pentagon', 2: 'square', 3: 'star', 4: 'triangle'}\n",
      "\n",
      "tensor([[0., 0., 0., 0., 0.]], grad_fn=<ReluBackward0>)\n"
     ]
    }
   ],
   "source": [
    "print({0:\"circle\",1:\"pentagon\",2:\"square\",3:\"star\",4:\"triangle\"})\n",
    "print()\n",
    "predicted_value=predicted(test)\n",
    "print(predicted_value)\n",
    "# print(torch.max(predicted_value)"
   ]
  },
  {
   "cell_type": "code",
   "execution_count": 439,
   "metadata": {},
   "outputs": [
    {
     "name": "stdout",
     "output_type": "stream",
     "text": [
      "[[0. 0. 0. 0. 0.]\n",
      " [0. 0. 0. 0. 0.]\n",
      " [0. 0. 0. 0. 0.]\n",
      " [0. 0. 0. 0. 0.]\n",
      " [0. 0. 0. 0. 0.]\n",
      " [0. 0. 0. 0. 0.]\n",
      " [0. 0. 0. 0. 0.]\n",
      " [0. 0. 0. 0. 0.]\n",
      " [0. 0. 0. 0. 0.]\n",
      " [0. 0. 0. 0. 0.]]\n"
     ]
    },
    {
     "ename": "TypeError",
     "evalue": "cannot unpack non-iterable int object",
     "output_type": "error",
     "traceback": [
      "\u001b[0;31m---------------------------------------------------------------------------\u001b[0m",
      "\u001b[0;31mTypeError\u001b[0m                                 Traceback (most recent call last)",
      "\u001b[1;32m/home/local/ZOHOCORP/yuvaraj-pt5649/Programs2/Deep-Neural-Networks-with pytorch/Shape_classification/New_updated_model.ipynb Cell 19\u001b[0m in \u001b[0;36m<cell line: 3>\u001b[0;34m()\u001b[0m\n\u001b[1;32m      <a href='vscode-notebook-cell:/home/local/ZOHOCORP/yuvaraj-pt5649/Programs2/Deep-Neural-Networks-with%20pytorch/Shape_classification/New_updated_model.ipynb#X24sZmlsZQ%3D%3D?line=0'>1</a>\u001b[0m x\u001b[39m=\u001b[39mnp\u001b[39m.\u001b[39mzeros((\u001b[39m10\u001b[39m,\u001b[39m5\u001b[39m))\n\u001b[1;32m      <a href='vscode-notebook-cell:/home/local/ZOHOCORP/yuvaraj-pt5649/Programs2/Deep-Neural-Networks-with%20pytorch/Shape_classification/New_updated_model.ipynb#X24sZmlsZQ%3D%3D?line=1'>2</a>\u001b[0m \u001b[39mprint\u001b[39m(x)\n\u001b[0;32m----> <a href='vscode-notebook-cell:/home/local/ZOHOCORP/yuvaraj-pt5649/Programs2/Deep-Neural-Networks-with%20pytorch/Shape_classification/New_updated_model.ipynb#X24sZmlsZQ%3D%3D?line=2'>3</a>\u001b[0m x[:\u001b[39m2\u001b[39m,\u001b[39m0\u001b[39m],x[\u001b[39m3\u001b[39m:\u001b[39m6\u001b[39m,\u001b[39m0\u001b[39m]\u001b[39m=\u001b[39m\u001b[39m1\u001b[39m\n\u001b[1;32m      <a href='vscode-notebook-cell:/home/local/ZOHOCORP/yuvaraj-pt5649/Programs2/Deep-Neural-Networks-with%20pytorch/Shape_classification/New_updated_model.ipynb#X24sZmlsZQ%3D%3D?line=4'>5</a>\u001b[0m x\n",
      "\u001b[0;31mTypeError\u001b[0m: cannot unpack non-iterable int object"
     ]
    }
   ],
   "source": []
  },
  {
   "cell_type": "code",
   "execution_count": null,
   "metadata": {},
   "outputs": [],
   "source": []
  }
 ],
 "metadata": {
  "kernelspec": {
   "display_name": "Python 3.10.6 64-bit",
   "language": "python",
   "name": "python3"
  },
  "language_info": {
   "codemirror_mode": {
    "name": "ipython",
    "version": 3
   },
   "file_extension": ".py",
   "mimetype": "text/x-python",
   "name": "python",
   "nbconvert_exporter": "python",
   "pygments_lexer": "ipython3",
   "version": "3.10.6"
  },
  "orig_nbformat": 4,
  "vscode": {
   "interpreter": {
    "hash": "97cc609b13305c559618ec78a438abc56230b9381f827f22d070313b9a1f3777"
   }
  }
 },
 "nbformat": 4,
 "nbformat_minor": 2
}
