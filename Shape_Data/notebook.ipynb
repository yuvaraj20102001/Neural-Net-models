{
 "cells": [
  {
   "cell_type": "code",
   "execution_count": 4,
   "metadata": {},
   "outputs": [],
   "source": [
    "import cv2\n",
    "import matplotlib.pyplot as plt\n",
    "import numpy as np\n",
    "import pandas as pd\n"
   ]
  },
  {
   "cell_type": "code",
   "execution_count": null,
   "metadata": {},
   "outputs": [],
   "source": []
  },
  {
   "cell_type": "code",
   "execution_count": 5,
   "metadata": {},
   "outputs": [],
   "source": [
    "lis=pd.read_csv(\"../list.csv\")\n",
    "l=lis[\"name\"].value\n"
   ]
  },
  {
   "cell_type": "code",
   "execution_count": 51,
   "metadata": {},
   "outputs": [
    {
     "data": {
      "text/plain": [
       "array(['123456', '123456789', '12345', 'qwerty', 'password', 'p@ssw0rd',\n",
       "       '12345678', '111111', '123123', 'est@nci@', '1234567890',\n",
       "       '1234567', 'root', 'qwerty123', '000000', '1q2w3e', 'aa12345678',\n",
       "       'syslet2k22', 'admin', 'abc123', 'wh0arey0u', 'password1', '1234',\n",
       "       'qwertyuiop', '123321', 'password123', 'Administrator',\n",
       "       '1q2w3e4r5t', 'iloveyou', '654321', 'zpasswordadmin', '666666',\n",
       "       'wontsharetoyou', '987654321', '123', 'welcome@123', '123456a',\n",
       "       'qwe123', '1q2w3e4r', '7777777', '1qaz2wsx', 'qazxsw',\n",
       "       'qwerty@123', '123qwe', 'zxcvbnm', '121212', 'guest', 'asdasd',\n",
       "       'a123456', '555555', 'user', 'feelashamed', 'dragon', '112233',\n",
       "       '123123123', 'monkey', 'soccer', '11111111', 'qazwsx', 'netgear',\n",
       "       '159753', 'parasite', 'asdfghjkl', '222222', 'zecure', '1234qwer',\n",
       "       'author', 'qwerty1', '123654', 'plmnko', '123abc', 'compliance',\n",
       "       'img3niu$', 'shailesh', 'asdfgh', '777777', 'aaaaaa', 'myspace1',\n",
       "       '88888888', '123456789a', '999999', 'ijnxsw', '888888',\n",
       "       'cispadmin', 'football', 'zorropassmanadmin', 'princess',\n",
       "       '789456123', '147258369', '1111111', 'computer', 'zorropassman',\n",
       "       'qwer1234', 'imidiot', 'okncde', 'zodoor', 'cisco', 'windows10',\n",
       "       'noc@123', 'India@123'], dtype=object)"
      ]
     },
     "execution_count": 51,
     "metadata": {},
     "output_type": "execute_result"
    }
   ],
   "source": [
    "l"
   ]
  },
  {
   "cell_type": "code",
   "execution_count": 33,
   "metadata": {},
   "outputs": [
    {
     "data": {
      "text/plain": [
       "numpy.ndarray"
      ]
     },
     "execution_count": 33,
     "metadata": {},
     "output_type": "execute_result"
    }
   ],
   "source": [
    "type(l)"
   ]
  },
  {
   "cell_type": "code",
   "execution_count": 61,
   "metadata": {},
   "outputs": [
    {
     "data": {
      "text/plain": [
       "array([['123456', '123456'],\n",
       "       ['123456', '123456789'],\n",
       "       ['123456', '12345'],\n",
       "       ...,\n",
       "       ['India@123', 'windows10'],\n",
       "       ['India@123', 'noc@123'],\n",
       "       ['India@123', 'India@123']], dtype='<U17')"
      ]
     },
     "execution_count": 61,
     "metadata": {},
     "output_type": "execute_result"
    }
   ],
   "source": [
    "x,y=np.meshgrid(l,l)\n",
    "x=x.reshape((1,10000))\n",
    "y=y.reshape((1,10000))\n",
    "points=np.append(y,x,axis=0)\n",
    "\n",
    "zipped=zip(points[0,:],points[1,:])\n",
    "array=np.array(list(zipped))\n",
    "array"
   ]
  },
  {
   "cell_type": "code",
   "execution_count": null,
   "metadata": {},
   "outputs": [],
   "source": []
  }
 ],
 "metadata": {
  "kernelspec": {
   "display_name": "Python 3.10.6 64-bit",
   "language": "python",
   "name": "python3"
  },
  "language_info": {
   "codemirror_mode": {
    "name": "ipython",
    "version": 3
   },
   "file_extension": ".py",
   "mimetype": "text/x-python",
   "name": "python",
   "nbconvert_exporter": "python",
   "pygments_lexer": "ipython3",
   "version": "3.10.6"
  },
  "orig_nbformat": 4,
  "vscode": {
   "interpreter": {
    "hash": "97cc609b13305c559618ec78a438abc56230b9381f827f22d070313b9a1f3777"
   }
  }
 },
 "nbformat": 4,
 "nbformat_minor": 2
}
